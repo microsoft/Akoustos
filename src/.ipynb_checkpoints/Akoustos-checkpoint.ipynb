{
 "cells": [
  {
   "cell_type": "code",
   "execution_count": null,
   "id": "387b0ae9-fa43-4492-b902-9e548c7ee2eb",
   "metadata": {},
   "outputs": [],
   "source": [
    "'''\n",
    "Copyright (c) Microsoft Corporation. All rights reserved.\n",
    "Licensed under the MIT License.\n",
    "'''\n",
    "### Run the following command to install required packages:\n",
    "#! pip install -r requirements.txt"
   ]
  },
  {
   "cell_type": "code",
   "execution_count": 1,
   "id": "efb46434-8caa-490c-b049-57773ecd4aea",
   "metadata": {},
   "outputs": [
    {
     "name": "stderr",
     "output_type": "stream",
     "text": [
      "2022-02-23 17:56:25.723616: I tensorflow/stream_executor/platform/default/dso_loader.cc:49] Successfully opened dynamic library libcudart.so.11.0\n"
     ]
    },
    {
     "name": "stdout",
     "output_type": "stream",
     "text": [
      "INFO:tensorflow:Mixed precision compatibility check (mixed_float16): OK\n",
      "Your GPU will likely run quickly with dtype policy mixed_float16 as it has compute capability of at least 7.0. Your GPU: Tesla V100-SXM2-32GB, compute capability 7.0\n"
     ]
    },
    {
     "name": "stderr",
     "output_type": "stream",
     "text": [
      "2022-02-23 17:56:27.004405: I tensorflow/compiler/jit/xla_cpu_device.cc:41] Not creating XLA devices, tf_xla_enable_xla_devices not set\n",
      "2022-02-23 17:56:27.005391: I tensorflow/stream_executor/platform/default/dso_loader.cc:49] Successfully opened dynamic library libcuda.so.1\n",
      "2022-02-23 17:56:36.838798: I tensorflow/core/common_runtime/gpu/gpu_device.cc:1720] Found device 0 with properties: \n",
      "pciBusID: 0008:00:00.0 name: Tesla V100-SXM2-32GB computeCapability: 7.0\n",
      "coreClock: 1.53GHz coreCount: 80 deviceMemorySize: 31.75GiB deviceMemoryBandwidth: 836.37GiB/s\n",
      "2022-02-23 17:56:36.838851: I tensorflow/stream_executor/platform/default/dso_loader.cc:49] Successfully opened dynamic library libcudart.so.11.0\n",
      "2022-02-23 17:56:36.842027: I tensorflow/stream_executor/platform/default/dso_loader.cc:49] Successfully opened dynamic library libcublas.so.11\n",
      "2022-02-23 17:56:36.842115: I tensorflow/stream_executor/platform/default/dso_loader.cc:49] Successfully opened dynamic library libcublasLt.so.11\n",
      "2022-02-23 17:56:36.843314: I tensorflow/stream_executor/platform/default/dso_loader.cc:49] Successfully opened dynamic library libcufft.so.10\n",
      "2022-02-23 17:56:36.843649: I tensorflow/stream_executor/platform/default/dso_loader.cc:49] Successfully opened dynamic library libcurand.so.10\n",
      "2022-02-23 17:56:36.846683: I tensorflow/stream_executor/platform/default/dso_loader.cc:49] Successfully opened dynamic library libcusolver.so.10\n",
      "2022-02-23 17:56:36.847399: I tensorflow/stream_executor/platform/default/dso_loader.cc:49] Successfully opened dynamic library libcusparse.so.11\n",
      "2022-02-23 17:56:36.847587: I tensorflow/stream_executor/platform/default/dso_loader.cc:49] Successfully opened dynamic library libcudnn.so.8\n",
      "2022-02-23 17:56:36.848009: I tensorflow/core/common_runtime/gpu/gpu_device.cc:1862] Adding visible gpu devices: 0\n",
      "2022-02-23 17:56:36.849092: I tensorflow/compiler/jit/xla_cpu_device.cc:41] Not creating XLA devices, tf_xla_enable_xla_devices not set\n"
     ]
    }
   ],
   "source": [
    "### Import Akoustos as any othe Python module\n",
    "from akoustos import Akoustos\n",
    "\n",
    "### Let Akoustos know where your data is located. \n",
    "ak = Akoustos('/mnt/akoustos/Data/Raw_Audio/','/mnt/akoustos/Data/Labeled_Data/', '/mnt/akoustos/Data/extracted_spectrograms_latest/', '/mnt/akoustos/Data/models_latest/')"
   ]
  },
  {
   "cell_type": "code",
   "execution_count": null,
   "id": "3596a2a4",
   "metadata": {},
   "outputs": [],
   "source": [
    "### This needs to run for the preprocessing phase and also for the scoring phase.\n",
    "### Run sound event detections on long audio files. This will pick up only the clips where sound is detected and save the data as a dataframe.\n",
    "annotated_data = ak.sound_event_detection()"
   ]
  },
  {
   "cell_type": "code",
   "execution_count": null,
   "id": "ea90ecc3-7544-41db-9ed6-3b7673898837",
   "metadata": {},
   "outputs": [],
   "source": [
    "### View some sample spectrograms based on the input data.\n",
    "ak.generate_sample_spectrograms(4)"
   ]
  },
  {
   "cell_type": "code",
   "execution_count": null,
   "id": "ac3ecc2c-e66b-444a-968c-1c18d7ebda39",
   "metadata": {},
   "outputs": [],
   "source": [
    "### Generate spectrograms based on the input data\n",
    "ak.generate_spectrograms(spectrogram_duration_in_seconds=4, clear_spectrograms_space=False)"
   ]
  },
  {
   "cell_type": "code",
   "execution_count": null,
   "id": "1c81fe0b-60ce-43d7-adbf-0126757a6331",
   "metadata": {},
   "outputs": [],
   "source": [
    "### Train using binary classification.\n",
    "categories = ['25']\n",
    "ak.train_binary_classification_model(categories)"
   ]
  },
  {
   "cell_type": "code",
   "execution_count": null,
   "id": "ca8b82f6-8d0f-42d2-a867-cda2ca383e65",
   "metadata": {},
   "outputs": [],
   "source": [
    "### Train using multi-class classification\n",
    "### Categories should be more than one for multi-class clasification\n",
    "categories = ['25', '14']\n",
    "ak.train_multiclass_classification_model(categories)"
   ]
  },
  {
   "cell_type": "code",
   "execution_count": null,
   "id": "d6926a09-7134-4e4f-bee2-0bcb95eb56fa",
   "metadata": {},
   "outputs": [],
   "source": [
    "### Score binary classification dataset. \n",
    "output = ak.score_binary_classification_dataset(spectrogram_directory_to_score = ak.spectrogram_dir, saved_model_to_use='v1-binary_classification_model-Customized_CNN.pth')"
   ]
  },
  {
   "cell_type": "code",
   "execution_count": null,
   "id": "252c7bac-7258-4849-b07f-32d39c217a2f",
   "metadata": {},
   "outputs": [],
   "source": [
    "print(output)"
   ]
  },
  {
   "cell_type": "code",
   "execution_count": null,
   "id": "b4025f59-707b-4e73-bb84-2d36e88dd906",
   "metadata": {},
   "outputs": [],
   "source": [
    "### Score multi-class classification dataset.\n",
    "categories = ['25', '14']\n",
    "output = ak.score_multiclass_classification_dataset(ak.spectrogram_dir, categories, 'v1-multiclass_classification_model-Customized_CNN.pth')"
   ]
  },
  {
   "cell_type": "code",
   "execution_count": null,
   "id": "956917fb",
   "metadata": {},
   "outputs": [],
   "source": [
    "print(output)"
   ]
  },
  {
   "cell_type": "code",
   "execution_count": null,
   "id": "20085eae-d027-4a0a-9312-207bd0647290",
   "metadata": {},
   "outputs": [],
   "source": []
  }
 ],
 "metadata": {
  "kernelspec": {
   "display_name": "Python 3 (ipykernel)",
   "language": "python",
   "name": "python3"
  },
  "language_info": {
   "codemirror_mode": {
    "name": "ipython",
    "version": 3
   },
   "file_extension": ".py",
   "mimetype": "text/x-python",
   "name": "python",
   "nbconvert_exporter": "python",
   "pygments_lexer": "ipython3",
   "version": "3.8.12"
  }
 },
 "nbformat": 4,
 "nbformat_minor": 5
}
