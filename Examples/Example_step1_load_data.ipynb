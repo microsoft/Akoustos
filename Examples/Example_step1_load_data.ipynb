{
 "cells": [
  {
   "cell_type": "code",
   "execution_count": 1,
   "id": "strong-filename",
   "metadata": {},
   "outputs": [],
   "source": [
    "## check availability of GPU (nvidia-smi)\n",
    "import os\n",
    "os.environ[\"CUDA_VISIBLE_DEVICES\"]=\"7\""
   ]
  },
  {
   "cell_type": "code",
   "execution_count": 2,
   "id": "everyday-shore",
   "metadata": {},
   "outputs": [
    {
     "name": "stdout",
     "output_type": "stream",
     "text": [
      "INFO:tensorflow:Mixed precision compatibility check (mixed_float16): OK\n",
      "Your GPU will likely run quickly with dtype policy mixed_float16 as it has compute capability of at least 7.0. Your GPU: Tesla V100-SXM2-32GB, compute capability 7.0\n"
     ]
    }
   ],
   "source": [
    "from tensorflow.keras import mixed_precision\n",
    "mixed_precision.set_global_policy('mixed_float16')"
   ]
  },
  {
   "cell_type": "code",
   "execution_count": 3,
   "id": "electronic-david",
   "metadata": {},
   "outputs": [],
   "source": [
    "import warnings\n",
    "warnings.filterwarnings(\"ignore\")\n",
    "\n",
    "import os \n",
    "import glob\n",
    "\n",
    "current_dir = \"/mnt/akoustos/\"\n",
    "\n",
    "data_dir = current_dir + \"Data/\"\n",
    "labeled_data_dir = data_dir + 'Labeled_Data/'\n",
    "audio_dir = data_dir + \"Raw_Audio/\"\n",
    "\n",
    "spectrogram_dir = data_dir + \"Extracted_Spectrogram/\"\n",
    "if not os.path.exists(spectrogram_dir):\n",
    "    os.makedirs(spectrogram_dir)\n"
   ]
  },
  {
   "cell_type": "markdown",
   "id": "thirty-judges",
   "metadata": {},
   "source": [
    "### Load audio files"
   ]
  },
  {
   "cell_type": "code",
   "execution_count": 4,
   "id": "iraqi-committee",
   "metadata": {},
   "outputs": [
    {
     "name": "stdout",
     "output_type": "stream",
     "text": [
      "Number of audio files: 37414\n"
     ]
    }
   ],
   "source": [
    "from src.load_data import Load_Data\n",
    "audio_filenames = Load_Data.audio_filenames(directory = audio_dir)"
   ]
  },
  {
   "cell_type": "markdown",
   "id": "adjustable-paris",
   "metadata": {},
   "source": [
    "### Load labeled data"
   ]
  },
  {
   "cell_type": "code",
   "execution_count": 5,
   "id": "compact-culture",
   "metadata": {},
   "outputs": [
    {
     "name": "stdout",
     "output_type": "stream",
     "text": [
      "Number of labeled detections: 2290\n",
      "Number of categories: 5\n",
      "   Category  Count  Percentage\n",
      "0        14    500       21.83\n",
      "1        25    500       21.83\n",
      "2      2662    407       17.77\n",
      "3      4949    501       21.88\n",
      "4      5620    382       16.68\n"
     ]
    }
   ],
   "source": [
    "from src.load_data import Load_Data\n",
    "labeled_data = Load_Data.labeled_data(directory = labeled_data_dir)"
   ]
  },
  {
   "cell_type": "markdown",
   "id": "numerous-termination",
   "metadata": {},
   "source": [
    "### Generate spectrograms"
   ]
  },
  {
   "cell_type": "code",
   "execution_count": 6,
   "id": "worse-multimedia",
   "metadata": {},
   "outputs": [
    {
     "name": "stdout",
     "output_type": "stream",
     "text": [
      "Time spent to generate spectrograms with parallelization:  194.726437 seconds\n",
      "Total number of spectrograms produced: 2290\n"
     ]
    }
   ],
   "source": [
    "from src.spectrogram import Spectrogram\n",
    "Spectrogram.clear_space(spectrogram_dir)  ## if don't want to keep previously generated spectrograms, clear space\n",
    "Spectrogram.generate_spectrograms_parallel(spectrogram_duration = 4, labeled_data = labeled_data, audio_filenames = audio_filenames, save_to_dir = spectrogram_dir) \n"
   ]
  },
  {
   "cell_type": "markdown",
   "id": "unlimited-laptop",
   "metadata": {},
   "source": [
    "### Load spectrograms as array"
   ]
  },
  {
   "cell_type": "code",
   "execution_count": 4,
   "id": "emerging-choir",
   "metadata": {},
   "outputs": [
    {
     "name": "stdout",
     "output_type": "stream",
     "text": [
      "number of valid spectrograms: 2290\n",
      "shape of vector for valid spectrograms: (224, 224, 3)\n",
      "Time spent to load spectrograms as array:  251.808136 seconds\n"
     ]
    }
   ],
   "source": [
    "from src.load_data import Load_Data\n",
    "specctrogram_vector, spectrogram_filenames = Load_Data.load_spectrograms(directory=spectrogram_dir)"
   ]
  },
  {
   "cell_type": "code",
   "execution_count": null,
   "id": "norman-crossing",
   "metadata": {},
   "outputs": [],
   "source": []
  }
 ],
 "metadata": {
  "kernelspec": {
   "display_name": "Python 3",
   "language": "python",
   "name": "python3"
  },
  "language_info": {
   "codemirror_mode": {
    "name": "ipython",
    "version": 3
   },
   "file_extension": ".py",
   "mimetype": "text/x-python",
   "name": "python",
   "nbconvert_exporter": "python",
   "pygments_lexer": "ipython3",
   "version": "3.8.6"
  }
 },
 "nbformat": 4,
 "nbformat_minor": 5
}
