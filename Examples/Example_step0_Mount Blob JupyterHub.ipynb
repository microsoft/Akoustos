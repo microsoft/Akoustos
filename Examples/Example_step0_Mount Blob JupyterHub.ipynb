{
 "cells": [
  {
   "cell_type": "code",
   "execution_count": 1,
   "metadata": {},
   "outputs": [
    {
     "data": {
      "text/plain": [
       "'\\n@author: ancintro\\n'"
      ]
     },
     "execution_count": 1,
     "metadata": {},
     "output_type": "execute_result"
    }
   ],
   "source": [
    "# -*- coding: utf-8 -*-\n",
    "\"\"\"\n",
    "@author: ancintro\n",
    "\"\"\""
   ]
  },
  {
   "cell_type": "code",
   "execution_count": 2,
   "metadata": {},
   "outputs": [],
   "source": [
    "# dsnakeyvaulthelper is avaialable in our private package manager, you need to setup a pip.conf. Follow instructions in our Azure DevOps package manager section\n",
    "from azure.identity import ManagedIdentityCredential\n",
    "from azure.keyvault.secrets import SecretClient\n",
    "import azure.identity\n",
    "import os"
   ]
  },
  {
   "cell_type": "code",
   "execution_count": 3,
   "metadata": {},
   "outputs": [],
   "source": [
    "credential = ManagedIdentityCredential()\n",
    "\n",
    "#Change this only if you are not using our reasearchlab azure storage account\n",
    "secret_client = SecretClient(\n",
    "    vault_url=\"https://researchlab-wu-kv.vault.azure.net/\",\n",
    "    credential=credential\n",
    ")\n",
    "vault_secret_name ='researchlabwusstorage-key-3df4'"
   ]
  },
  {
   "cell_type": "code",
   "execution_count": 4,
   "metadata": {},
   "outputs": [],
   "source": [
    "#Change this only if you are not using our reasearchlab azure storage account\n",
    "account_name = 'researchlabwusstorage'\n",
    "account_key = secret_client.get_secret(vault_secret_name).value"
   ]
  },
  {
   "cell_type": "code",
   "execution_count": 5,
   "metadata": {},
   "outputs": [],
   "source": [
    "#No need to change this\n",
    "os.environ[\"AZURE_STORAGE_ACCOUNT\"] = account_name\n",
    "os.environ[\"AZURE_STORAGE_ACCESS_KEY\"] = account_key"
   ]
  },
  {
   "cell_type": "code",
   "execution_count": 6,
   "metadata": {},
   "outputs": [],
   "source": [
    "#Change this to the desired values\n",
    "os.environ[\"FUSE_MOUNT_PATH\"] = '/mnt/akoustos'\n",
    "os.environ[\"FUSE_MOUNT_CONTAINER_NAME\"] = 'akoustos'"
   ]
  },
  {
   "cell_type": "code",
   "execution_count": 7,
   "metadata": {},
   "outputs": [],
   "source": [
    "%%bash\n",
    "sudo mkdir -p /blobfuseconnection\n",
    "sudo chown $NB_USER /blobfuseconnection/\n",
    "sudo echo \"accountName\" $AZURE_STORAGE_ACCOUNT > /blobfuseconnection/connection.cfg\n",
    "sudo echo \"accountKey\" $AZURE_STORAGE_ACCESS_KEY >> /blobfuseconnection/connection.cfg\n",
    "sudo echo \"containerName\" $FUSE_MOUNT_CONTAINER_NAME >> /blobfuseconnection/connection.cfg"
   ]
  },
  {
   "cell_type": "code",
   "execution_count": 8,
   "metadata": {},
   "outputs": [],
   "source": [
    "%%bash\n",
    "sudo mkdir -p $FUSE_MOUNT_PATH\n",
    "sudo chown $NB_USER $FUSE_MOUNT_PATH\n",
    "sudo mkdir -p /mnt/resource/\n",
    "sudo chown $NB_USER /mnt/resource/"
   ]
  },
  {
   "cell_type": "code",
   "execution_count": 9,
   "metadata": {},
   "outputs": [],
   "source": [
    "%%bash\n",
    "sudo blobfuse $FUSE_MOUNT_PATH --tmp-path=/mnt/resource/ --container-name=$FUSE_MOUNT_CONTAINER_NAME --config-file=/blobfuseconnection/connection.cfg -o attr_timeout=240 -o entry_timeout=240 -o negative_timeout=120 -o uid=1000 -o gid=100 -o allow_other\n",
    "sudo rm -f connection.cfg"
   ]
  },
  {
   "cell_type": "code",
   "execution_count": null,
   "metadata": {},
   "outputs": [],
   "source": []
  }
 ],
 "metadata": {
  "kernelspec": {
   "display_name": "Python 3",
   "language": "python",
   "name": "python3"
  },
  "language_info": {
   "codemirror_mode": {
    "name": "ipython",
    "version": 3
   },
   "file_extension": ".py",
   "mimetype": "text/x-python",
   "name": "python",
   "nbconvert_exporter": "python",
   "pygments_lexer": "ipython3",
   "version": "3.8.6"
  }
 },
 "nbformat": 4,
 "nbformat_minor": 4
}
