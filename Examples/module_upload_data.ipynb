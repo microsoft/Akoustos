{
 "cells": [
  {
   "cell_type": "code",
   "execution_count": 1,
   "id": "minor-resident",
   "metadata": {},
   "outputs": [
    {
     "name": "stdout",
     "output_type": "stream",
     "text": [
      "INFO:tensorflow:Mixed precision compatibility check (mixed_float16): OK\n",
      "Your GPU will likely run quickly with dtype policy mixed_float16 as it has compute capability of at least 7.0. Your GPU: Tesla V100-SXM2-32GB, compute capability 7.0\n"
     ]
    }
   ],
   "source": [
    "## check availability of GPU (nvidia-smi)\n",
    "import os\n",
    "os.environ[\"CUDA_VISIBLE_DEVICES\"]=\"1\"\n",
    "\n",
    "from tensorflow.keras import mixed_precision\n",
    "mixed_precision.set_global_policy('mixed_float16')\n",
    "\n",
    "import warnings\n",
    "warnings.filterwarnings(\"ignore\")\n",
    "\n",
    "import os \n",
    "import glob\n",
    "\n",
    "current_dir = \"/mnt/akoustos/\"\n",
    "\n",
    "data_dir = current_dir + \"Data/\"\n",
    "labeled_data_dir = data_dir + 'Labeled_Data/'\n",
    "audio_dir = data_dir + \"Raw_Audio/\"\n",
    "\n",
    "spectrogram_dir = data_dir + \"Extracted_Spectrogram/\"\n",
    "if not os.path.exists(spectrogram_dir):\n",
    "    os.makedirs(spectrogram_dir)"
   ]
  },
  {
   "cell_type": "markdown",
   "id": "animal-lying",
   "metadata": {},
   "source": [
    "### module: Upload audio data"
   ]
  },
  {
   "cell_type": "code",
   "execution_count": 2,
   "id": "second-phone",
   "metadata": {},
   "outputs": [
    {
     "name": "stdout",
     "output_type": "stream",
     "text": [
      "Number of audio files: 37414\n",
      "Time spent to upload audio files:  17.348192 seconds\n"
     ]
    }
   ],
   "source": [
    "from src.load_data import Load_Data\n",
    "audio_filenames = Load_Data.audio_filenames(directory = audio_dir)"
   ]
  },
  {
   "cell_type": "markdown",
   "id": "ceramic-fundamentals",
   "metadata": {},
   "source": [
    "### module: Upload labeled data"
   ]
  },
  {
   "cell_type": "code",
   "execution_count": 3,
   "id": "driven-association",
   "metadata": {},
   "outputs": [
    {
     "name": "stdout",
     "output_type": "stream",
     "text": [
      "   Category  Count  Percentage\n",
      "0        14    500       21.83\n",
      "1        25    500       21.83\n",
      "2      2662    407       17.77\n",
      "3      4949    501       21.88\n",
      "4      5620    382       16.68\n",
      "Time spent to upload labeled data:  0.161514 seconds\n"
     ]
    }
   ],
   "source": [
    "from src.load_data import Load_Data\n",
    "labeled_data = Load_Data.labeled_data(labeled_data_dir = labeled_data_dir, audio_dir = audio_dir)"
   ]
  },
  {
   "cell_type": "code",
   "execution_count": null,
   "id": "tight-jerusalem",
   "metadata": {},
   "outputs": [],
   "source": []
  }
 ],
 "metadata": {
  "kernelspec": {
   "display_name": "Python 3",
   "language": "python",
   "name": "python3"
  },
  "language_info": {
   "codemirror_mode": {
    "name": "ipython",
    "version": 3
   },
   "file_extension": ".py",
   "mimetype": "text/x-python",
   "name": "python",
   "nbconvert_exporter": "python",
   "pygments_lexer": "ipython3",
   "version": "3.8.6"
  }
 },
 "nbformat": 4,
 "nbformat_minor": 5
}
